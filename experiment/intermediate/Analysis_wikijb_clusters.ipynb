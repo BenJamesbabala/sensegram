{
 "cells": [
  {
   "cell_type": "markdown",
   "metadata": {},
   "source": [
    "# Check if parsing of original (downloaded from [here](http://panchenko.me/data/joint/dt-wiki-deps-jst-wpf1k-fpw1k-thr.csv-cw-e0-N200-n200-minsize15.csv.gz)) JB wiki clusters as implemented in TWSI_evaluation works correctly. For example, word column should contain words only. No mixed types errors sould occur."
   ]
  },
  {
   "cell_type": "code",
   "execution_count": 1,
   "metadata": {
    "collapsed": false
   },
   "outputs": [
    {
     "name": "stderr",
     "output_type": "stream",
     "text": [
      "/home/pelevina/.local/lib/python2.7/site-packages/IPython/core/interactiveshell.py:2723: DtypeWarning: Columns (1,3) have mixed types. Specify dtype option on import or set low_memory=False.\n",
      "  interactivity=interactivity, compiler=compiler, result=result)\n"
     ]
    }
   ],
   "source": [
    "from pandas import read_csv\n",
    "\n",
    "user_inventory_fpath = \"/home/pelevina/experiment/intermediate/wiki-clusters-dep-cw-e0-N200-n200-minsize15-count930408.csv\"\n",
    "\n",
    "user_inventory = read_csv(user_inventory_fpath, sep=\"\\t\", encoding='utf8', header=None, names=[\"word\",\"sense_id\",\"cluster\"])"
   ]
  },
  {
   "cell_type": "code",
   "execution_count": 3,
   "metadata": {
    "collapsed": false
   },
   "outputs": [
    {
     "data": {
      "text/plain": [
       "u'0'"
      ]
     },
     "execution_count": 3,
     "metadata": {},
     "output_type": "execute_result"
    }
   ],
   "source": [
    "user_inventory.iloc[10].word\n"
   ]
  },
  {
   "cell_type": "code",
   "execution_count": 4,
   "metadata": {
    "collapsed": false
   },
   "outputs": [
    {
     "data": {
      "text/plain": [
       "word            cid\n",
       "sense_id    cluster\n",
       "cluster        isas\n",
       "Name: word, dtype: object"
      ]
     },
     "execution_count": 4,
     "metadata": {},
     "output_type": "execute_result"
    }
   ],
   "source": [
    "user_inventory.iloc[0]"
   ]
  },
  {
   "cell_type": "markdown",
   "metadata": {},
   "source": [
    "### File has a false header of 4 elements: word, cid, cluster, isas.\n",
    "### This caused two probelms: 1. first and second raw incorrectly parsed. 2. Word column was interpreted as index column.\n",
    "### Change header to 'word, cid, cluster', repeat parsing."
   ]
  },
  {
   "cell_type": "code",
   "execution_count": 5,
   "metadata": {
    "collapsed": false
   },
   "outputs": [
    {
     "name": "stderr",
     "output_type": "stream",
     "text": [
      "/home/pelevina/.local/lib/python2.7/site-packages/IPython/core/interactiveshell.py:2723: DtypeWarning: Columns (1) have mixed types. Specify dtype option on import or set low_memory=False.\n",
      "  interactivity=interactivity, compiler=compiler, result=result)\n"
     ]
    }
   ],
   "source": [
    "user_inventory = read_csv(user_inventory_fpath, sep=\"\\t\", encoding='utf8', header=None, names=[\"word\",\"sense_id\",\"cluster\"])"
   ]
  },
  {
   "cell_type": "code",
   "execution_count": 6,
   "metadata": {
    "collapsed": false
   },
   "outputs": [
    {
     "data": {
      "text/plain": [
       "u'Maximilian'"
      ]
     },
     "execution_count": 6,
     "metadata": {},
     "output_type": "execute_result"
    }
   ],
   "source": [
    "user_inventory.iloc[10].word"
   ]
  },
  {
   "cell_type": "markdown",
   "metadata": {},
   "source": [
    "### Problem solved, now check the word column"
   ]
  },
  {
   "cell_type": "code",
   "execution_count": 7,
   "metadata": {
    "collapsed": false
   },
   "outputs": [
    {
     "data": {
      "text/plain": [
       "<bound method DataFrame.head of                                                      word sense_id  \\\n",
       "0                                                    word      cid   \n",
       "1                                                     (ep        2   \n",
       "2                                                     (ep        3   \n",
       "3                                      minister-president        1   \n",
       "4                                      minister-president        3   \n",
       "5                                      minister-president        5   \n",
       "6                                      Minister-President        0   \n",
       "7                                      Minister-President        1   \n",
       "8                                      Minister-President        2   \n",
       "9                                                    Otto        0   \n",
       "10                                             Maximilian        0   \n",
       "11                                             Maximilian        1   \n",
       "12                                                elector        0   \n",
       "13                                                elector        1   \n",
       "14                                                elector        2   \n",
       "15                                                elector        3   \n",
       "16                                                 Amalie        0   \n",
       "17                                               Palatine        0   \n",
       "18                                               Palatine        1   \n",
       "19                                               Palatine        2   \n",
       "20                                                Duchess        0   \n",
       "21                                               Dorothea        0   \n",
       "22                                               Dorothea        1   \n",
       "23                                    Ministers-President        0   \n",
       "24                                    Ministers-President        3   \n",
       "25                                         Prince-elector        0   \n",
       "26                                         Prince-elector        1   \n",
       "27                                                Kingdom        0   \n",
       "28                                                Kingdom        1   \n",
       "29                                               Mathilde        1   \n",
       "...                                                   ...      ...   \n",
       "915843                                          heilbronn        0   \n",
       "915844                                              epoc.        0   \n",
       "915845                                      ...especially        0   \n",
       "915846                                         work-force        4   \n",
       "915847                                                as’        0   \n",
       "915848                                            Rosauro        0   \n",
       "915849                                 post-enlightenment        0   \n",
       "915850                                       three-to-six        0   \n",
       "915851                                      Welsh-Huggins        1   \n",
       "915852  α\\t2\\tn\":0.006,g\":0.005,∞:0.004,t\":0.004,\"\"k:0...      NaN   \n",
       "915853  α\\t3\\tformula_8:0.005,formula_3:0.004,formula_...      NaN   \n",
       "915854                                       re-arranging        0   \n",
       "915855                                                YMS        2   \n",
       "915856  expressively\\t0\\tbrilliantly:0.004,equally:0.0...      NaN   \n",
       "915857                                          written..        1   \n",
       "915858                                              3,217        0   \n",
       "915859                                              tuohy        0   \n",
       "915860                                              Olina        0   \n",
       "915861                                        Commandants        4   \n",
       "915862                                             opptak        0   \n",
       "915863                              medium-to-large-sized        0   \n",
       "915864                                              88–73        1   \n",
       "915865                                              3,668        0   \n",
       "915866                                          Odintsovo        1   \n",
       "915867                                           mid-1968        0   \n",
       "915868                                           mid-1968        1   \n",
       "915869                                       over-exposed       10   \n",
       "915870                                             geison        2   \n",
       "915871                                              Mourn       14   \n",
       "915872                                               20ha        0   \n",
       "\n",
       "                                                  cluster  \n",
       "0                                                 cluster  \n",
       "1       aged:0.041,§:0.03,n°:0.028,(episode:0.028,unbe...  \n",
       "2       (eps:0.02,Watanabe:0.013,Yamamoto:0.011,Kobaya...  \n",
       "3       secretary-general:0.007,president:0.006,chairm...  \n",
       "4       Minister-President:0.028,Landtag:0.013,Ministe...  \n",
       "5       Dorothea:0.006,Hedwig:0.006,Elisabeth:0.005,Am...  \n",
       "6       SPD:0.013,Count:0.01,CSU:0.008,Horst:0.007,CDU...  \n",
       "7       Chancellor:0.013,Minister:0.012,chairman:0.009...  \n",
       "8       minister-president:0.028,Ministers-President:0...  \n",
       "9       Karl:0.059,Friedrich:0.055,Wilhelm:0.055,Johan...  \n",
       "10      Napoleon:0.034,Charlemagne:0.032,monarch:0.03,...  \n",
       "11      Sigismund:0.064,Ferdinand:0.057,Ludwig:0.049,O...  \n",
       "12      duke:0.029,pope:0.023,monarch:0.02,clergy:0.02...  \n",
       "13      Elector:0.063,prince-elector:0.029,Electorate:...  \n",
       "14      delegate:0.05,people:0.041,household:0.037,vot...  \n",
       "15      candidate:0.043,reelection:0.036,senator:0.033...  \n",
       "16      Luise:0.06,Wilhelmine:0.057,Henriette:0.057,Am...  \n",
       "17      Bavarian:0.049,Prussian:0.041,Saxon:0.033,Bohe...  \n",
       "18      Duchess:0.055,Countess:0.042,daughter:0.032,co...  \n",
       "19      Elector:0.078,Margrave:0.075,Duke:0.071,Palati...  \n",
       "20      Duke:0.145,duchess:0.137,Countess:0.095,daught...  \n",
       "21      Wilhelmine:0.055,Henriette:0.054,Elisabeth:0.0...  \n",
       "22      von:0.03,Christoph:0.03,Friedrich:0.027,Wilhel...  \n",
       "23      Presidents:0.004,Representatives:0.003,Justice...  \n",
       "24      Minister-President:0.014,Landtag:0.013,ministe...  \n",
       "25      Elector:0.022,Margrave:0.015,elector:0.014,Ele...  \n",
       "26      Magdeburg:0.005,Cologne:0.005,Trier:0.005,Salz...  \n",
       "27      kingdom:0.162,king:0.088,throne:0.058,dynasty:...  \n",
       "28      Republic:0.112,Kingdoms:0.103,Spain:0.099,Stat...  \n",
       "29      Henriette:0.046,mathilde:0.046,Amalie:0.041,Lu...  \n",
       "...                                                   ...  \n",
       "915843  with:0.003,finals:0.002,against:0.002,amongst:...  \n",
       "915844  rec.:0.002,e.o.:0.002,k-9.:0.002,xvi.:0.002,55...  \n",
       "915845  here:0.008,specifically:0.008,regardless:0.008...  \n",
       "915846  workforce:0.004,labor:0.003,laborer:0.003,work...  \n",
       "915847  ‘in:0.003,except:0.003,as:0.003,at:0.003,\"per:...  \n",
       "915848  Gregorio:0.003,Donato:0.002,Friar:0.002,Jaime:...  \n",
       "915849  Assyrian:0.004,Shia:0.003,Protestant:0.003,Sun...  \n",
       "915850  16:0.003,57:0.003,550:0.003,twenty-four:0.003,...  \n",
       "915851  Swanson:0.002,Scanlon:0.002,Byrnes:0.002,Gross...  \n",
       "915852                                                NaN  \n",
       "915853                                                NaN  \n",
       "915854  mastering:0.002,processing:0.002,embedding:0.0...  \n",
       "915855  sr:0.004,SR:0.004,CR:0.004,Minuscule:0.004,Rou...  \n",
       "915856                                                NaN  \n",
       "915857  print:0.003,illuminate:0.003,preserve:0.003,wr...  \n",
       "915858  200:0.002,20,000:0.002,275:0.002,600,000:0.002...  \n",
       "915859  moreover:0.002,strangely:0.002,duly:0.002,myst...  \n",
       "915860  Medical:0.004,Health:0.004,Animal:0.003,Episco...  \n",
       "915861  Senators:0.003,Purdue:0.002,Vikings:0.002,Knig...  \n",
       "915862  cutoff:0.002,examination:0.002,formality:0.002...  \n",
       "915863  medium-sized:0.003,inquisitive:0.002,female:0....  \n",
       "915864  20-6:0.002,1–4:0.002,3–0:0.002,2–1:0.002,5–2:0...  \n",
       "915865  1,800:0.002,1,600:0.002,8,600:0.002,5,200:0.00...  \n",
       "915866  Tbilisi:0.004,Moscow:0.003,Baku:0.003,Minsk:0....  \n",
       "915867  1960s:0.002,640:0.002,1,000:0.002,90:0.002,for...  \n",
       "915868  1913:0.003,1999:0.003,1937:0.002,1972:0.002,19...  \n",
       "915869  unexposed:0.002,under-reported:0.002,falter:0....  \n",
       "915870  molding:0.003,plate:0.003,truss:0.003,projecti...  \n",
       "915871  Laugh:0.004,Play:0.004,Need:0.004,Break:0.004,...  \n",
       "915872  196:0.002,254:0.002,7,000:0.002,208:0.002,fift...  \n",
       "\n",
       "[915873 rows x 3 columns]>"
      ]
     },
     "execution_count": 7,
     "metadata": {},
     "output_type": "execute_result"
    }
   ],
   "source": [
    "user_inventory.head"
   ]
  },
  {
   "cell_type": "code",
   "execution_count": 9,
   "metadata": {
    "collapsed": false
   },
   "outputs": [
    {
     "data": {
      "text/plain": [
       "(14508, 3)"
      ]
     },
     "execution_count": 9,
     "metadata": {},
     "output_type": "execute_result"
    }
   ],
   "source": [
    "user_inventory[user_inventory.isnull().any(axis=1)].shape"
   ]
  },
  {
   "cell_type": "markdown",
   "metadata": {},
   "source": [
    "### Clearly, some lines are parsed incorrectly (e.g. 915852). This is most probably due to doublequotes appearing in some words while doublequote is a default escape character for read_csv.  There are 14508 lines that have NaN values as a result. Change reading parameters and repeat."
   ]
  },
  {
   "cell_type": "code",
   "execution_count": 10,
   "metadata": {
    "collapsed": true
   },
   "outputs": [],
   "source": [
    "user_inventory = read_csv(user_inventory_fpath, sep=\"\\t\", encoding='utf8', header=None, names=[\"word\",\"sense_id\",\"cluster\"], doublequote=False, quotechar=u\"\\u0000\")"
   ]
  },
  {
   "cell_type": "code",
   "execution_count": 11,
   "metadata": {
    "collapsed": false
   },
   "outputs": [
    {
     "data": {
      "text/plain": [
       "<bound method DataFrame.head of                          word sense_id  \\\n",
       "0                        word      cid   \n",
       "1                         (ep        2   \n",
       "2                         (ep        3   \n",
       "3          minister-president        1   \n",
       "4          minister-president        3   \n",
       "5          minister-president        5   \n",
       "6          Minister-President        0   \n",
       "7          Minister-President        1   \n",
       "8          Minister-President        2   \n",
       "9                        Otto        0   \n",
       "10                 Maximilian        0   \n",
       "11                 Maximilian        1   \n",
       "12                    elector        0   \n",
       "13                    elector        1   \n",
       "14                    elector        2   \n",
       "15                    elector        3   \n",
       "16                     Amalie        0   \n",
       "17                   Palatine        0   \n",
       "18                   Palatine        1   \n",
       "19                   Palatine        2   \n",
       "20                    Duchess        0   \n",
       "21                   Dorothea        0   \n",
       "22                   Dorothea        1   \n",
       "23        Ministers-President        0   \n",
       "24        Ministers-President        3   \n",
       "25             Prince-elector        0   \n",
       "26             Prince-elector        1   \n",
       "27                    Kingdom        0   \n",
       "28                    Kingdom        1   \n",
       "29                   Mathilde        1   \n",
       "...                       ...      ...   \n",
       "930379          ...especially        0   \n",
       "930380             work-force        4   \n",
       "930381                    as’        0   \n",
       "930382                Rosauro        0   \n",
       "930383     post-enlightenment        0   \n",
       "930384           three-to-six        0   \n",
       "930385          Welsh-Huggins        1   \n",
       "930386                     \"α        2   \n",
       "930387                     \"α        3   \n",
       "930388              “Literacy        1   \n",
       "930389                  i-vi.        0   \n",
       "930390           re-arranging        0   \n",
       "930391                    YMS        2   \n",
       "930392          \"expressively        0   \n",
       "930393              written..        1   \n",
       "930394                  3,217        0   \n",
       "930395                  tuohy        0   \n",
       "930396                  Olina        0   \n",
       "930397            Commandants        4   \n",
       "930398                 opptak        0   \n",
       "930399  medium-to-large-sized        0   \n",
       "930400                  88–73        1   \n",
       "930401                  3,668        0   \n",
       "930402              Odintsovo        1   \n",
       "930403               mid-1968        0   \n",
       "930404               mid-1968        1   \n",
       "930405           over-exposed       10   \n",
       "930406                 geison        2   \n",
       "930407                  Mourn       14   \n",
       "930408                   20ha        0   \n",
       "\n",
       "                                                  cluster  \n",
       "0                                                 cluster  \n",
       "1       aged:0.041,§:0.03,n°:0.028,(episode:0.028,unbe...  \n",
       "2       (eps:0.02,Watanabe:0.013,Yamamoto:0.011,Kobaya...  \n",
       "3       secretary-general:0.007,president:0.006,chairm...  \n",
       "4       Minister-President:0.028,Landtag:0.013,Ministe...  \n",
       "5       Dorothea:0.006,Hedwig:0.006,Elisabeth:0.005,Am...  \n",
       "6       SPD:0.013,Count:0.01,CSU:0.008,Horst:0.007,CDU...  \n",
       "7       Chancellor:0.013,Minister:0.012,chairman:0.009...  \n",
       "8       minister-president:0.028,Ministers-President:0...  \n",
       "9       Karl:0.059,Friedrich:0.055,Wilhelm:0.055,Johan...  \n",
       "10      Napoleon:0.034,Charlemagne:0.032,monarch:0.03,...  \n",
       "11      Sigismund:0.064,Ferdinand:0.057,Ludwig:0.049,O...  \n",
       "12      duke:0.029,pope:0.023,monarch:0.02,clergy:0.02...  \n",
       "13      Elector:0.063,prince-elector:0.029,Electorate:...  \n",
       "14      delegate:0.05,people:0.041,household:0.037,vot...  \n",
       "15      candidate:0.043,reelection:0.036,senator:0.033...  \n",
       "16      Luise:0.06,Wilhelmine:0.057,Henriette:0.057,Am...  \n",
       "17      Bavarian:0.049,Prussian:0.041,Saxon:0.033,Bohe...  \n",
       "18      Duchess:0.055,Countess:0.042,daughter:0.032,co...  \n",
       "19      Elector:0.078,Margrave:0.075,Duke:0.071,Palati...  \n",
       "20      Duke:0.145,duchess:0.137,Countess:0.095,daught...  \n",
       "21      Wilhelmine:0.055,Henriette:0.054,Elisabeth:0.0...  \n",
       "22      von:0.03,Christoph:0.03,Friedrich:0.027,Wilhel...  \n",
       "23      Presidents:0.004,Representatives:0.003,Justice...  \n",
       "24      Minister-President:0.014,Landtag:0.013,ministe...  \n",
       "25      Elector:0.022,Margrave:0.015,elector:0.014,Ele...  \n",
       "26      Magdeburg:0.005,Cologne:0.005,Trier:0.005,Salz...  \n",
       "27      kingdom:0.162,king:0.088,throne:0.058,dynasty:...  \n",
       "28      Republic:0.112,Kingdoms:0.103,Spain:0.099,Stat...  \n",
       "29      Henriette:0.046,mathilde:0.046,Amalie:0.041,Lu...  \n",
       "...                                                   ...  \n",
       "930379  here:0.008,specifically:0.008,regardless:0.008...  \n",
       "930380  workforce:0.004,labor:0.003,laborer:0.003,work...  \n",
       "930381  ‘in:0.003,except:0.003,as:0.003,at:0.003,\"per:...  \n",
       "930382  Gregorio:0.003,Donato:0.002,Friar:0.002,Jaime:...  \n",
       "930383  Assyrian:0.004,Shia:0.003,Protestant:0.003,Sun...  \n",
       "930384  16:0.003,57:0.003,550:0.003,twenty-four:0.003,...  \n",
       "930385  Swanson:0.002,Scanlon:0.002,Byrnes:0.002,Gross...  \n",
       "930386  \"n\":0.006,g\":0.005,∞:0.004,t\":0.004,\"\"k:0.004,...  \n",
       "930387  formula_8:0.005,formula_3:0.004,formula_17:0.0...  \n",
       "930388  Reading:0.003,Mathematical:0.002,Future:0.002,...  \n",
       "930389  ;:0.003,::0.003,.:0.003,ep.:0.002,subsp.:0.002...  \n",
       "930390  mastering:0.002,processing:0.002,embedding:0.0...  \n",
       "930391  sr:0.004,SR:0.004,CR:0.004,Minuscule:0.004,Rou...  \n",
       "930392  brilliantly:0.004,equally:0.003,incredibly:0.0...  \n",
       "930393  print:0.003,illuminate:0.003,preserve:0.003,wr...  \n",
       "930394  200:0.002,20,000:0.002,275:0.002,600,000:0.002...  \n",
       "930395  moreover:0.002,strangely:0.002,duly:0.002,myst...  \n",
       "930396  Medical:0.004,Health:0.004,Animal:0.003,Episco...  \n",
       "930397  Senators:0.003,Purdue:0.002,Vikings:0.002,Knig...  \n",
       "930398  cutoff:0.002,examination:0.002,formality:0.002...  \n",
       "930399  medium-sized:0.003,inquisitive:0.002,female:0....  \n",
       "930400  20-6:0.002,1–4:0.002,3–0:0.002,2–1:0.002,5–2:0...  \n",
       "930401  1,800:0.002,1,600:0.002,8,600:0.002,5,200:0.00...  \n",
       "930402  Tbilisi:0.004,Moscow:0.003,Baku:0.003,Minsk:0....  \n",
       "930403  1960s:0.002,640:0.002,1,000:0.002,90:0.002,for...  \n",
       "930404  1913:0.003,1999:0.003,1937:0.002,1972:0.002,19...  \n",
       "930405  unexposed:0.002,under-reported:0.002,falter:0....  \n",
       "930406  molding:0.003,plate:0.003,truss:0.003,projecti...  \n",
       "930407  Laugh:0.004,Play:0.004,Need:0.004,Break:0.004,...  \n",
       "930408  196:0.002,254:0.002,7,000:0.002,208:0.002,fift...  \n",
       "\n",
       "[930409 rows x 3 columns]>"
      ]
     },
     "execution_count": 11,
     "metadata": {},
     "output_type": "execute_result"
    }
   ],
   "source": [
    "user_inventory.head\n"
   ]
  },
  {
   "cell_type": "markdown",
   "metadata": {},
   "source": [
    "### Now looks all lines are parsed correctly. Row number is correct. Words with doublequotes appear in the cluster. Check for NaN:"
   ]
  },
  {
   "cell_type": "code",
   "execution_count": 13,
   "metadata": {
    "collapsed": false
   },
   "outputs": [
    {
     "data": {
      "text/html": [
       "<div>\n",
       "<table border=\"1\" class=\"dataframe\">\n",
       "  <thead>\n",
       "    <tr style=\"text-align: right;\">\n",
       "      <th></th>\n",
       "      <th>word</th>\n",
       "      <th>sense_id</th>\n",
       "      <th>cluster</th>\n",
       "    </tr>\n",
       "  </thead>\n",
       "  <tbody>\n",
       "    <tr>\n",
       "      <th>108795</th>\n",
       "      <td>NaN</td>\n",
       "      <td>1</td>\n",
       "      <td>SH:0.017,NH:0.017,CR:0.015,VT:0.015,HB:0.015,N...</td>\n",
       "    </tr>\n",
       "    <tr>\n",
       "      <th>108796</th>\n",
       "      <td>NaN</td>\n",
       "      <td>2</td>\n",
       "      <td>JA:0.034,JM:0.033,RA:0.029,DA:0.029,JL:0.028,A...</td>\n",
       "    </tr>\n",
       "    <tr>\n",
       "      <th>181715</th>\n",
       "      <td>NaN</td>\n",
       "      <td>10</td>\n",
       "      <td>Mazda:0.004,n/a:0.004,turbo:0.004,NA:0.004,tur...</td>\n",
       "    </tr>\n",
       "    <tr>\n",
       "      <th>181716</th>\n",
       "      <td>NaN</td>\n",
       "      <td>23</td>\n",
       "      <td>KS:0.003,STV:0.003,ICAO:0.003,EIS:0.003,HEX:0....</td>\n",
       "    </tr>\n",
       "    <tr>\n",
       "      <th>300525</th>\n",
       "      <td>NaN</td>\n",
       "      <td>3</td>\n",
       "      <td>Nan:0.012,Tian:0.005,Cong:0.004,bao:0.004,zhi:...</td>\n",
       "    </tr>\n",
       "    <tr>\n",
       "      <th>300526</th>\n",
       "      <td>NaN</td>\n",
       "      <td>9</td>\n",
       "      <td>Eilean:0.028,Coire:0.015,Mòr:0.014,Dearg:0.013...</td>\n",
       "    </tr>\n",
       "    <tr>\n",
       "      <th>300527</th>\n",
       "      <td>NaN</td>\n",
       "      <td>10</td>\n",
       "      <td>pancake:0.005,flatbread:0.004,ga:0.004,bread:0...</td>\n",
       "    </tr>\n",
       "    <tr>\n",
       "      <th>508753</th>\n",
       "      <td>NaN</td>\n",
       "      <td>3</td>\n",
       "      <td>dislocation:0.003,disturbance:0.002,gradient:0...</td>\n",
       "    </tr>\n",
       "    <tr>\n",
       "      <th>508754</th>\n",
       "      <td>NaN</td>\n",
       "      <td>14</td>\n",
       "      <td>−1:0.004,\"y\":0.003,\"i\":0.002,1.0):0.002,&gt;:0.00...</td>\n",
       "    </tr>\n",
       "    <tr>\n",
       "      <th>549378</th>\n",
       "      <td>NaN</td>\n",
       "      <td>1</td>\n",
       "      <td>GB:0.003,byte:0.003,matching:0.003,sorting:0.0...</td>\n",
       "    </tr>\n",
       "    <tr>\n",
       "      <th>549379</th>\n",
       "      <td>NaN</td>\n",
       "      <td>4</td>\n",
       "      <td>null:0.004,permutation:0.003,function:0.003,un...</td>\n",
       "    </tr>\n",
       "    <tr>\n",
       "      <th>549380</th>\n",
       "      <td>NaN</td>\n",
       "      <td>6</td>\n",
       "      <td>Data:0.004,Triple:0.003,Null:0.003,Affine:0.00...</td>\n",
       "    </tr>\n",
       "  </tbody>\n",
       "</table>\n",
       "</div>"
      ],
      "text/plain": [
       "       word sense_id                                            cluster\n",
       "108795  NaN        1  SH:0.017,NH:0.017,CR:0.015,VT:0.015,HB:0.015,N...\n",
       "108796  NaN        2  JA:0.034,JM:0.033,RA:0.029,DA:0.029,JL:0.028,A...\n",
       "181715  NaN       10  Mazda:0.004,n/a:0.004,turbo:0.004,NA:0.004,tur...\n",
       "181716  NaN       23  KS:0.003,STV:0.003,ICAO:0.003,EIS:0.003,HEX:0....\n",
       "300525  NaN        3  Nan:0.012,Tian:0.005,Cong:0.004,bao:0.004,zhi:...\n",
       "300526  NaN        9  Eilean:0.028,Coire:0.015,Mòr:0.014,Dearg:0.013...\n",
       "300527  NaN       10  pancake:0.005,flatbread:0.004,ga:0.004,bread:0...\n",
       "508753  NaN        3  dislocation:0.003,disturbance:0.002,gradient:0...\n",
       "508754  NaN       14  −1:0.004,\"y\":0.003,\"i\":0.002,1.0):0.002,>:0.00...\n",
       "549378  NaN        1  GB:0.003,byte:0.003,matching:0.003,sorting:0.0...\n",
       "549379  NaN        4  null:0.004,permutation:0.003,function:0.003,un...\n",
       "549380  NaN        6  Data:0.004,Triple:0.003,Null:0.003,Affine:0.00..."
      ]
     },
     "execution_count": 13,
     "metadata": {},
     "output_type": "execute_result"
    }
   ],
   "source": [
    "user_inventory[user_inventory.isnull().any(axis=1)]"
   ]
  },
  {
   "cell_type": "markdown",
   "metadata": {},
   "source": [
    "### Manual error analysis: in all these lines the word itself is spelled 'nan'.\n",
    "\n",
    "# Conclusion\n",
    "\n",
    "### Change parameters of TWSI reading of *user inventory* and of *TWSI dataset*. The later is relevant, because cluster words with doublequotes could get into the predicted_related_terms column through neighbours of sense vectors built on wiki JB clusters."
   ]
  },
  {
   "cell_type": "code",
   "execution_count": null,
   "metadata": {
    "collapsed": true
   },
   "outputs": [],
   "source": []
  }
 ],
 "metadata": {
  "kernelspec": {
   "display_name": "Python 2",
   "language": "python",
   "name": "python2"
  },
  "language_info": {
   "codemirror_mode": {
    "name": "ipython",
    "version": 2
   },
   "file_extension": ".py",
   "mimetype": "text/x-python",
   "name": "python",
   "nbconvert_exporter": "python",
   "pygments_lexer": "ipython2",
   "version": "2.7.9"
  }
 },
 "nbformat": 4,
 "nbformat_minor": 0
}
